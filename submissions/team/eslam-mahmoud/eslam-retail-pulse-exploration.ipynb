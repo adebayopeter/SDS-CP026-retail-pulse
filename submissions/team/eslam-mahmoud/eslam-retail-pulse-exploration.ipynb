{
 "cells": [
  {
   "cell_type": "code",
   "execution_count": 58,
   "id": "df71a329",
   "metadata": {},
   "outputs": [],
   "source": [
    "import pandas as pd\n",
    "import seaborn as sns\n",
    "import sklearn as sk\n",
    "from sklearn.preprocessing import MinMaxScaler"
   ]
  },
  {
   "cell_type": "markdown",
   "id": "e1faca7e",
   "metadata": {},
   "source": [
    "---"
   ]
  },
  {
   "cell_type": "code",
   "execution_count": 59,
   "id": "3b17f803",
   "metadata": {},
   "outputs": [
    {
     "name": "stdout",
     "output_type": "stream",
     "text": [
      "<class 'pandas.core.frame.DataFrame'>\n",
      "RangeIndex: 8871 entries, 0 to 8870\n",
      "Data columns (total 11 columns):\n",
      " #   Column                                Non-Null Count  Dtype  \n",
      "---  ------                                --------------  -----  \n",
      " 0   Cus.ID                                8871 non-null   int64  \n",
      " 1   Date                                  8871 non-null   object \n",
      " 2   Cus. Location                         8871 non-null   object \n",
      " 3   Age                                   8871 non-null   int64  \n",
      " 4   Gender                                8871 non-null   object \n",
      " 5   Mobile Name                           8871 non-null   object \n",
      " 6   Sell Price                            8871 non-null   float64\n",
      " 7   Does he/she Come from Facebook Page?  8871 non-null   object \n",
      " 8   Does he/she Followed Our Page?        8871 non-null   object \n",
      " 9   Did he/she buy any mobile before?     8871 non-null   object \n",
      " 10  Did he/she hear of our shop before?   8871 non-null   object \n",
      "dtypes: float64(1), int64(2), object(8)\n",
      "memory usage: 762.5+ KB\n"
     ]
    },
    {
     "data": {
      "text/html": [
       "<div>\n",
       "<style scoped>\n",
       "    .dataframe tbody tr th:only-of-type {\n",
       "        vertical-align: middle;\n",
       "    }\n",
       "\n",
       "    .dataframe tbody tr th {\n",
       "        vertical-align: top;\n",
       "    }\n",
       "\n",
       "    .dataframe thead th {\n",
       "        text-align: right;\n",
       "    }\n",
       "</style>\n",
       "<table border=\"1\" class=\"dataframe\">\n",
       "  <thead>\n",
       "    <tr style=\"text-align: right;\">\n",
       "      <th></th>\n",
       "      <th>Cus.ID</th>\n",
       "      <th>Date</th>\n",
       "      <th>Cus. Location</th>\n",
       "      <th>Age</th>\n",
       "      <th>Gender</th>\n",
       "      <th>Mobile Name</th>\n",
       "      <th>Sell Price</th>\n",
       "      <th>Does he/she Come from Facebook Page?</th>\n",
       "      <th>Does he/she Followed Our Page?</th>\n",
       "      <th>Did he/she buy any mobile before?</th>\n",
       "      <th>Did he/she hear of our shop before?</th>\n",
       "    </tr>\n",
       "  </thead>\n",
       "  <tbody>\n",
       "    <tr>\n",
       "      <th>0</th>\n",
       "      <td>1</td>\n",
       "      <td>27-05-2024</td>\n",
       "      <td>Rangamati Sadar</td>\n",
       "      <td>49</td>\n",
       "      <td>F</td>\n",
       "      <td>Galaxy A55 5G 8/128</td>\n",
       "      <td>17073.0</td>\n",
       "      <td>No</td>\n",
       "      <td>Yes</td>\n",
       "      <td>No</td>\n",
       "      <td>Yes</td>\n",
       "    </tr>\n",
       "    <tr>\n",
       "      <th>1</th>\n",
       "      <td>2</td>\n",
       "      <td>27-05-2024</td>\n",
       "      <td>Inside Rangamati</td>\n",
       "      <td>44</td>\n",
       "      <td>M</td>\n",
       "      <td>Redmi Note 12 Pro 8/128</td>\n",
       "      <td>15546.0</td>\n",
       "      <td>Yes</td>\n",
       "      <td>No</td>\n",
       "      <td>No</td>\n",
       "      <td>Yes</td>\n",
       "    </tr>\n",
       "    <tr>\n",
       "      <th>2</th>\n",
       "      <td>3</td>\n",
       "      <td>27-05-2024</td>\n",
       "      <td>Rangamati Sadar</td>\n",
       "      <td>45</td>\n",
       "      <td>M</td>\n",
       "      <td>R-70 Turbo 5G 6/128</td>\n",
       "      <td>26516.0</td>\n",
       "      <td>Yes</td>\n",
       "      <td>No</td>\n",
       "      <td>No</td>\n",
       "      <td>Yes</td>\n",
       "    </tr>\n",
       "    <tr>\n",
       "      <th>3</th>\n",
       "      <td>4</td>\n",
       "      <td>27-05-2024</td>\n",
       "      <td>Rangamati Sadar</td>\n",
       "      <td>46</td>\n",
       "      <td>M</td>\n",
       "      <td>R-70 Turbo 5G 6/128</td>\n",
       "      <td>21927.0</td>\n",
       "      <td>No</td>\n",
       "      <td>No</td>\n",
       "      <td>No</td>\n",
       "      <td>Yes</td>\n",
       "    </tr>\n",
       "    <tr>\n",
       "      <th>4</th>\n",
       "      <td>5</td>\n",
       "      <td>27-05-2024</td>\n",
       "      <td>Outside Rangamati</td>\n",
       "      <td>27</td>\n",
       "      <td>F</td>\n",
       "      <td>Vivo T3x 5G 8/128</td>\n",
       "      <td>16718.0</td>\n",
       "      <td>Yes</td>\n",
       "      <td>No</td>\n",
       "      <td>No</td>\n",
       "      <td>Yes</td>\n",
       "    </tr>\n",
       "  </tbody>\n",
       "</table>\n",
       "</div>"
      ],
      "text/plain": [
       "   Cus.ID        Date      Cus. Location  Age Gender              Mobile Name  \\\n",
       "0       1  27-05-2024    Rangamati Sadar   49      F      Galaxy A55 5G 8/128   \n",
       "1       2  27-05-2024   Inside Rangamati   44      M  Redmi Note 12 Pro 8/128   \n",
       "2       3  27-05-2024    Rangamati Sadar   45      M      R-70 Turbo 5G 6/128   \n",
       "3       4  27-05-2024    Rangamati Sadar   46      M      R-70 Turbo 5G 6/128   \n",
       "4       5  27-05-2024  Outside Rangamati   27      F        Vivo T3x 5G 8/128   \n",
       "\n",
       "   Sell Price Does he/she Come from Facebook Page?  \\\n",
       "0     17073.0                                   No   \n",
       "1     15546.0                                  Yes   \n",
       "2     26516.0                                  Yes   \n",
       "3     21927.0                                   No   \n",
       "4     16718.0                                  Yes   \n",
       "\n",
       "  Does he/she Followed Our Page? Did he/she buy any mobile before?  \\\n",
       "0                            Yes                                No   \n",
       "1                             No                                No   \n",
       "2                             No                                No   \n",
       "3                             No                                No   \n",
       "4                             No                                No   \n",
       "\n",
       "  Did he/she hear of our shop before?  \n",
       "0                                 Yes  \n",
       "1                                 Yes  \n",
       "2                                 Yes  \n",
       "3                                 Yes  \n",
       "4                                 Yes  "
      ]
     },
     "execution_count": 59,
     "metadata": {},
     "output_type": "execute_result"
    }
   ],
   "source": [
    "df = pd.read_csv('./data/raw/TechCorner_Sales_update.csv')\n",
    "df.info()\n",
    "df.head()"
   ]
  },
  {
   "cell_type": "markdown",
   "id": "b96f372b",
   "metadata": {},
   "source": [
    "---"
   ]
  },
  {
   "cell_type": "markdown",
   "id": "b38d0f27",
   "metadata": {},
   "source": [
    "#### Data Quality Checklist\n",
    "\n",
    "##### 1- Completeness (No Missing Values)                                 * CHECKED *\n",
    "##### 2- Uniqueness (No Duplicates)                                       * CHECKED *\n",
    "##### 3- Consistency (No Conflict between data info)                      * CHECKED *\n",
    "##### 4- Accuracy                                                         \n",
    "##### 5- Validity                                                         * CHECKED *                                                         \n",
    "##### 6- Timeliness"
   ]
  },
  {
   "cell_type": "markdown",
   "id": "0a64d914",
   "metadata": {},
   "source": [
    "---"
   ]
  },
  {
   "cell_type": "code",
   "execution_count": 60,
   "id": "ca167689",
   "metadata": {},
   "outputs": [
    {
     "name": "stdout",
     "output_type": "stream",
     "text": [
      "Number of rows: 8871\n",
      "Number of columns: 11\n",
      "\n",
      "Missing values in each column:\n",
      "Cus.ID                                  0\n",
      "Date                                    0\n",
      "Cus. Location                           0\n",
      "Age                                     0\n",
      "Gender                                  0\n",
      "Mobile Name                             0\n",
      "Sell Price                              0\n",
      "Does he/she Come from Facebook Page?    0\n",
      "Does he/she Followed Our Page?          0\n",
      "Did he/she buy any mobile before?       0\n",
      "Did he/she hear of our shop before?     0\n",
      "dtype: int64\n",
      "\n",
      "Missing values %:\n",
      "0.0\n",
      "\n"
     ]
    }
   ],
   "source": [
    "#---Check For Missing Values\n",
    "\n",
    "df_shape = df.shape\n",
    "rows_no = df_shape[0]\n",
    "columns_no = df_shape[1]\n",
    "print(f\"Number of rows: {rows_no}\\nNumber of columns: {columns_no}\\n\")\n",
    "\n",
    "# Check for missing values in the DataFrame\n",
    "missing_values = df.isnull().sum()\n",
    "print(f\"Missing values in each column:\\n{missing_values}\\n\")\n",
    "\n",
    "# Check for null values percentage in the DataFrame\n",
    "missing_values_percentage = (missing_values.sum() / rows_no * columns_no) * 100\n",
    "print(f\"Missing values %:\\n{missing_values_percentage}\\n\")"
   ]
  },
  {
   "cell_type": "markdown",
   "id": "1a16e66d",
   "metadata": {},
   "source": [
    "---"
   ]
  },
  {
   "cell_type": "code",
   "execution_count": 61,
   "id": "ebe16836",
   "metadata": {},
   "outputs": [
    {
     "name": "stdout",
     "output_type": "stream",
     "text": [
      "Number of duplicated Customers: 0\n",
      "Number of duplicated rows: 0\n"
     ]
    }
   ],
   "source": [
    "#---Check Duplicates\n",
    "print(f\"Number of duplicated Customers: {df.duplicated(subset='Cus.ID').sum()}\")\n",
    "print(f'Number of duplicated rows: {df.duplicated().sum()}')"
   ]
  },
  {
   "cell_type": "markdown",
   "id": "38766fd9",
   "metadata": {},
   "source": [
    "---"
   ]
  },
  {
   "cell_type": "code",
   "execution_count": 62,
   "id": "c7087b27",
   "metadata": {},
   "outputs": [
    {
     "name": "stdout",
     "output_type": "stream",
     "text": [
      "Index(['Date', 'Cus. Location', 'Gender', 'Mobile Name',\n",
      "       'Does he/she Come from Facebook Page?',\n",
      "       'Does he/she Followed Our Page?', 'Did he/she buy any mobile before?',\n",
      "       'Did he/she hear of our shop before?'],\n",
      "      dtype='object')\n",
      "['Galaxy A55 5G 8/128' 'Redmi Note 12 Pro 8/128' 'R-70 Turbo 5G 6/128'\n",
      " 'Vivo T3x 5G 8/128' 'Moto G85 5G 8/128' 'iQOO Z7 5G 6/128'\n",
      " 'Galaxy S24 Ultra 12/256' 'Vivo Y200 5G 6/128' 'iQOO Neo 9 Pro 5G 12/256'\n",
      " 'Note 11S 6/128' 'Galaxy M35 5G 8/128' 'Pixel 8 Pro 12/256'\n",
      " 'Narzo N53 4/64' 'Note 14 Pro 5G 8/256' 'iPhone 16 Pro 256GB'\n",
      " 'Pixel 7a 8/128' 'iPhone 16 Pro Max 1TB']\n",
      "['Rangamati Sadar' 'Inside Rangamati' 'Outside Rangamati']\n"
     ]
    }
   ],
   "source": [
    "# Check for inconsistency\n",
    "\n",
    "print(df.select_dtypes(include=['object']).columns)\n",
    "print(df['Mobile Name'].unique())\n",
    "print(df['Cus. Location'].unique())\n",
    "\n",
    "# Mobile Names are unique, No Inconsistency in Mobile Names or Cus. Location"
   ]
  },
  {
   "cell_type": "code",
   "execution_count": 63,
   "id": "912b73ae",
   "metadata": {},
   "outputs": [
    {
     "name": "stdout",
     "output_type": "stream",
     "text": [
      "Number of Customers in each location:\n",
      "Cus. Location\n",
      "Inside Rangamati     2899\n",
      "Outside Rangamati    3000\n",
      "Rangamati Sadar      2972\n",
      "Name: Cus. Location, dtype: int64\n",
      "\n",
      "Number of Local Customers: 5871\n",
      "Number of Non-Local Customers: 3000\n",
      "\n",
      "brands:\n",
      " Mobile Name\n",
      "Galaxy A55 5G 8/128         522\n",
      "Galaxy M35 5G 8/128         528\n",
      "Galaxy S24 Ultra 12/256     541\n",
      "Moto G85 5G 8/128           560\n",
      "Narzo N53 4/64              530\n",
      "Note 11S 6/128              538\n",
      "Note 14 Pro 5G 8/256        495\n",
      "Pixel 7a 8/128              518\n",
      "Pixel 8 Pro 12/256          533\n",
      "R-70 Turbo 5G 6/128         511\n",
      "Redmi Note 12 Pro 8/128     528\n",
      "Vivo T3x 5G 8/128           514\n",
      "Vivo Y200 5G 6/128          520\n",
      "iPhone 16 Pro 256GB         521\n",
      "iPhone 16 Pro Max 1TB       488\n",
      "iQOO Neo 9 Pro 5G 12/256    502\n",
      "iQOO Z7 5G 6/128            522\n",
      "Name: Mobile Name, dtype: int64\n"
     ]
    }
   ],
   "source": [
    "cx_geo = df.groupby('Cus. Location')['Cus. Location'].count()           # Count the number of customers in each location\n",
    "print(f\"Number of Customers in each location:\\n{cx_geo}\\n\")\n",
    "\n",
    "non_local_cx = cx_geo['Outside Rangamati']                              # Count the number of non-local customers\n",
    "local_cx = cx_geo.sum() - non_local_cx                                  # Count the number of local customers \n",
    "print(f\"Number of Local Customers: {local_cx}\")\n",
    "print(f\"Number of Non-Local Customers: {non_local_cx}\\n\")\n",
    "\n",
    "brands = df.groupby('Mobile Name')['Mobile Name'].count()\n",
    "print('brands:\\n', brands)"
   ]
  },
  {
   "cell_type": "markdown",
   "id": "e99c2fd7",
   "metadata": {},
   "source": [
    "---"
   ]
  },
  {
   "cell_type": "code",
   "execution_count": 64,
   "id": "815d475f",
   "metadata": {},
   "outputs": [],
   "source": [
    "# Change Cus Location to Local and Non-Local\n",
    "df['Cus. Location'] = df['Cus. Location'].replace({'Rangamati Sadar': 'Local',\n",
    "                                                'Inside Rangamati': 'Local',\n",
    "                                                'Outside Rangamati': 'Non_Local'})"
   ]
  },
  {
   "cell_type": "code",
   "execution_count": 65,
   "id": "46a11c6b",
   "metadata": {},
   "outputs": [],
   "source": [
    "# ---Validate Data Types, Convert Data Types & Clean Data\n",
    "df.drop(columns=['Cus.ID'], inplace=True)                                       # Drop the 'Cus.ID' column\n",
    "df.columns = df.columns.str.replace(' ', '')                                    # Remove spaces from column names\n",
    "df.columns = df.columns.str.replace('.', '')                                    # Remove dots from column names\n",
    "df = df.sort_values(by='CusLocation', ascending=True)                           # Sort by 'CusLocation' column\n",
    "df.reset_index(drop=True, inplace=True)                                         # Reset the index after sorting\n",
    "df['Date'] = pd.to_datetime(df['Date'], format='mixed', yearfirst=True)         # Convert 'Date' column to datetime format"
   ]
  },
  {
   "cell_type": "markdown",
   "id": "3431ace6",
   "metadata": {},
   "source": [
    "---"
   ]
  },
  {
   "cell_type": "code",
   "execution_count": 66,
   "id": "7dafba39",
   "metadata": {},
   "outputs": [
    {
     "name": "stdout",
     "output_type": "stream",
     "text": [
      "Number of outliers in 'Age' column: 0\n",
      "Outliers in 'Age' column:\n",
      "Empty DataFrame\n",
      "Columns: [Date, Age, MobileName, SellPrice]\n",
      "Index: []\n",
      "\n"
     ]
    },
    {
     "data": {
      "image/png": "[encoded data removed]",
      "text/plain": [
       "<Figure size 640x480 with 1 Axes>"
      ]
     },
     "metadata": {},
     "output_type": "display_data"
    }
   ],
   "source": [
    "#---Check for Age Outliers\n",
    "\n",
    "df['Age'].describe()  # Get descriptive statistics for 'Age' column\n",
    "df['Age'].plot.box()  # Boxplot for 'Age' column\n",
    "# Check for outliers in the 'Age' column using IQR method\n",
    "Q1 = df['Age'].quantile(0.25)\n",
    "Q3 = df['Age'].quantile(0.75)\n",
    "IQR = Q3 - Q1\n",
    "lower_bound = Q1 - 1.5 * IQR\n",
    "upper_bound = Q3 + 1.5 * IQR\n",
    "outliers_age = df[(df['Age'] < lower_bound) | (df['Age'] > upper_bound)]\n",
    "print(f\"Number of outliers in 'Age' column: {len(outliers_age)}\")\n",
    "print(f\"Outliers in 'Age' column:\\n{outliers_age[['Date', 'Age', 'MobileName', 'SellPrice']]}\\n\")"
   ]
  },
  {
   "cell_type": "markdown",
   "id": "1d826968",
   "metadata": {},
   "source": [
    "---"
   ]
  },
  {
   "cell_type": "code",
   "execution_count": 67,
   "id": "4de92773",
   "metadata": {},
   "outputs": [
    {
     "name": "stdout",
     "output_type": "stream",
     "text": [
      "Number of outliers in 'SellPrice' column: 919\n",
      "Outliers in 'SellPrice' column:\n",
      "           Date  Age                MobileName  SellPrice\n",
      "10   2025-03-02   49  iQOO Neo 9 Pro 5G 12/256    40580.0\n",
      "27   2025-03-02   45  iQOO Neo 9 Pro 5G 12/256    40985.0\n",
      "40   2024-10-19   25       iPhone 16 Pro 256GB    48404.0\n",
      "42   2025-03-02   44  iQOO Neo 9 Pro 5G 12/256    40150.0\n",
      "44   2025-03-02   37  iQOO Neo 9 Pro 5G 12/256    40171.0\n",
      "...         ...  ...                       ...        ...\n",
      "8812 2024-10-25   29            Pixel 7a 8/128    44313.0\n",
      "8817 2024-10-26   37   Galaxy S24 Ultra 12/256    38773.0\n",
      "8821 2024-10-27   18       iPhone 16 Pro 256GB   141304.0\n",
      "8835 2024-10-24   27       iPhone 16 Pro 256GB    66531.0\n",
      "8846 2024-10-23   19       Galaxy A55 5G 8/128    39758.0\n",
      "\n",
      "[919 rows x 4 columns]\n",
      "\n",
      "Percentage of outliers in the dataset: 10.36%\n",
      "\n"
     ]
    },
    {
     "data": {
      "image/png": "[encoded data removed]",
      "text/plain": [
       "<Figure size 640x480 with 1 Axes>"
      ]
     },
     "metadata": {},
     "output_type": "display_data"
    }
   ],
   "source": [
    "#---Check for Sell Price Outliers\n",
    "\n",
    "df['SellPrice'].describe()  # Get descriptive statistics for 'Sell Price' column\n",
    "df['SellPrice'].plot.box()  # Boxplot for 'Sell Price' column\n",
    "# Check for outliers in the 'Age' column using IQR method\n",
    "Q1 = df['SellPrice'].quantile(0.25)\n",
    "Q3 = df['SellPrice'].quantile(0.75)\n",
    "IQR = Q3 - Q1\n",
    "lower_bound = Q1 - 1.5 * IQR\n",
    "upper_bound = Q3 + 1.5 * IQR\n",
    "outliers_sell_price = df[(df['SellPrice'] < lower_bound) | (df['SellPrice'] > upper_bound)]\n",
    "print(f\"Number of outliers in 'SellPrice' column: {len(outliers_sell_price)}\")\n",
    "print(f\"Outliers in 'SellPrice' column:\\n{outliers_sell_price[['Date', 'Age', 'MobileName', 'SellPrice']]}\\n\")\n",
    "\n",
    "outliers_percentage = (len(outliers_age) + len(outliers_sell_price)) / rows_no * 100\n",
    "print(f\"Percentage of outliers in the dataset: {outliers_percentage:.2f}%\\n\")"
   ]
  },
  {
   "cell_type": "markdown",
   "id": "dc5379f2",
   "metadata": {},
   "source": [
    "---"
   ]
  },
  {
   "cell_type": "code",
   "execution_count": 68,
   "id": "8564afac",
   "metadata": {},
   "outputs": [
    {
     "name": "stderr",
     "output_type": "stream",
     "text": [
      "C:\\Users\\eslam\\AppData\\Local\\Temp\\ipykernel_15728\\353754147.py:2: SettingWithCopyWarning: \n",
      "A value is trying to be set on a copy of a slice from a DataFrame\n",
      "\n",
      "See the caveats in the documentation: https://pandas.pydata.org/pandas-docs/stable/user_guide/indexing.html#returning-a-view-versus-a-copy\n",
      "  outliers_sell_price.sort_values(by=['MobileName'], inplace=True)  # Sort by 'MobileName' column\n"
     ]
    }
   ],
   "source": [
    "# Save outliers to CSV files\n",
    "outliers_sell_price.sort_values(by=['MobileName'], inplace=True)  # Sort by 'MobileName' column\n",
    "outliers_sell_price.to_csv('./data/analysis/TechCorner_Sales_SellPrice_Outliers.csv', index=True)"
   ]
  },
  {
   "cell_type": "markdown",
   "id": "a111f7a2",
   "metadata": {},
   "source": [
    "---"
   ]
  },
  {
   "cell_type": "code",
   "execution_count": 69,
   "id": "c827686b",
   "metadata": {},
   "outputs": [],
   "source": [
    "# Find Average Sell Price for each Mobile Name\n",
    "avg_sell_price = df.groupby('MobileName')['SellPrice'].mean().reset_index()\n",
    "avg_sell_price.rename(columns={'SellPrice': 'AvgSellPrice'}, inplace=True)  # Rename the column for clarity\n",
    "\n",
    "# Save brands average price to CSV files\n",
    "avg_sell_price.sort_values(by=['MobileName'], inplace=True)  # Sort by 'MobileName' column\n",
    "avg_sell_price.to_csv('./data/analysis/Brands_Average_Price.csv', index=True)"
   ]
  },
  {
   "cell_type": "markdown",
   "id": "b3b56ae5",
   "metadata": {},
   "source": [
    "---"
   ]
  },
  {
   "cell_type": "code",
   "execution_count": 70,
   "id": "bd641637",
   "metadata": {},
   "outputs": [
    {
     "name": "stdout",
     "output_type": "stream",
     "text": [
      "<class 'pandas.core.frame.DataFrame'>\n",
      "Index: 7952 entries, 0 to 8870\n",
      "Data columns (total 10 columns):\n",
      " #   Column                           Non-Null Count  Dtype         \n",
      "---  ------                           --------------  -----         \n",
      " 0   Date                             7952 non-null   datetime64[ns]\n",
      " 1   CusLocation                      7952 non-null   object        \n",
      " 2   Age                              7952 non-null   int64         \n",
      " 3   Gender                           7952 non-null   object        \n",
      " 4   MobileName                       7952 non-null   object        \n",
      " 5   SellPrice                        7952 non-null   float64       \n",
      " 6   Doeshe/sheComefromFacebookPage?  7952 non-null   object        \n",
      " 7   Doeshe/sheFollowedOurPage?       7952 non-null   object        \n",
      " 8   Didhe/shebuyanymobilebefore?     7952 non-null   object        \n",
      " 9   Didhe/shehearofourshopbefore?    7952 non-null   object        \n",
      "dtypes: datetime64[ns](1), float64(1), int64(1), object(7)\n",
      "memory usage: 683.4+ KB\n"
     ]
    }
   ],
   "source": [
    "#--- Drop Data With Sell Price Outliers\n",
    "df_no_outliers = df[~df['SellPrice'].isin(outliers_sell_price['SellPrice'])]  # Drop rows with outliers in 'SellPrice' column\n",
    "df_no_outliers.info()\n",
    "\n",
    "# 8871 - 919 = 7952 VERIFIED"
   ]
  },
  {
   "cell_type": "code",
   "execution_count": 71,
   "id": "b02ecff4",
   "metadata": {},
   "outputs": [],
   "source": [
    "# Encoding Original DataFrame\n",
    "df.head(10)\n",
    "df.dtypes\n",
    "df_encoded = df.copy()                                                      # Create a copy of the DataFrame to avoid modifying the original\n",
    "df_encoded = pd.get_dummies(df_encoded, drop_first=True, dtype=int)         # One-hot encode categorical variables\n",
    "\n",
    "df_encoded.columns                                                          # Check the columns after encoding\n",
    "df_encoded.rename(columns=lambda x: x.replace(' ', ''), inplace=True)       # Remove spaces from column names\n",
    "df_encoded.rename(columns=lambda x: x.replace('CusLocation_', ''), inplace=True)\n",
    "df_encoded.rename(columns=lambda x: x.replace('MobileName_', ''), inplace=True)\n",
    "df_encoded.rename(columns={'Gender_M':'Male',\n",
    "                        'Doeshe/sheComefromFacebookPage?_Yes': 'FromFacebookPage',\n",
    "                        'Doeshe/sheFollowedOurPage?_Yes': 'Follower',\n",
    "                        'Didhe/shebuyanymobilebefore?_Yes': 'PreviousPurchase',\n",
    "                        'Didhe/shehearofourshopbefore?_Yes': 'HeardOfShopBefore',}, inplace=True)  # Rename columns for clarity\n"
   ]
  },
  {
   "cell_type": "markdown",
   "id": "14694919",
   "metadata": {},
   "source": [
    "---"
   ]
  },
  {
   "cell_type": "code",
   "execution_count": 72,
   "id": "d939a03c",
   "metadata": {},
   "outputs": [
    {
     "name": "stdout",
     "output_type": "stream",
     "text": [
      "<class 'pandas.core.frame.DataFrame'>\n",
      "RangeIndex: 8871 entries, 0 to 8870\n",
      "Data columns (total 25 columns):\n",
      " #   Column                Non-Null Count  Dtype         \n",
      "---  ------                --------------  -----         \n",
      " 0   Date                  8871 non-null   datetime64[ns]\n",
      " 1   Age                   8871 non-null   int64         \n",
      " 2   SellPrice             8871 non-null   float64       \n",
      " 3   Non_Local             8871 non-null   int32         \n",
      " 4   Male                  8871 non-null   int32         \n",
      " 5   GalaxyM355G8/128      8871 non-null   int32         \n",
      " 6   GalaxyS24Ultra12/256  8871 non-null   int32         \n",
      " 7   MotoG855G8/128        8871 non-null   int32         \n",
      " 8   NarzoN534/64          8871 non-null   int32         \n",
      " 9   Note11S6/128          8871 non-null   int32         \n",
      " 10  Note14Pro5G8/256      8871 non-null   int32         \n",
      " 11  Pixel7a8/128          8871 non-null   int32         \n",
      " 12  Pixel8Pro12/256       8871 non-null   int32         \n",
      " 13  R-70Turbo5G6/128      8871 non-null   int32         \n",
      " 14  RedmiNote12Pro8/128   8871 non-null   int32         \n",
      " 15  VivoT3x5G8/128        8871 non-null   int32         \n",
      " 16  VivoY2005G6/128       8871 non-null   int32         \n",
      " 17  iPhone16Pro256GB      8871 non-null   int32         \n",
      " 18  iPhone16ProMax1TB     8871 non-null   int32         \n",
      " 19  iQOONeo9Pro5G12/256   8871 non-null   int32         \n",
      " 20  iQOOZ75G6/128         8871 non-null   int32         \n",
      " 21  FromFacebookPage      8871 non-null   int32         \n",
      " 22  Follower              8871 non-null   int32         \n",
      " 23  PreviousPurchase      8871 non-null   int32         \n",
      " 24  HeardOfShopBefore     8871 non-null   int32         \n",
      "dtypes: datetime64[ns](1), float64(1), int32(22), int64(1)\n",
      "memory usage: 970.4 KB\n"
     ]
    }
   ],
   "source": [
    "df_encoded.sort_values(by='Date', ascending=True, inplace=True)  # Sort by 'Date' column\n",
    "df_encoded.reset_index(drop=True, inplace=True)  # Reset the index after sorting\n",
    "df_encoded.info()       # Check the data types of the encoded DataFrame\n",
    "\n",
    "df_encoded.to_csv('./data/processed/TechCorner_Sales_Encoded.csv', index=True)   # Save the encoded DataFrame to a CSV file"
   ]
  },
  {
   "cell_type": "markdown",
   "id": "77cdcec5",
   "metadata": {},
   "source": [
    "---"
   ]
  },
  {
   "cell_type": "code",
   "execution_count": 73,
   "id": "88752e3a",
   "metadata": {},
   "outputs": [],
   "source": [
    "#Encoding the no outliers DataFrame\n",
    "df_no_outliers_encoded = df_no_outliers.copy()  # Create a copy of the DataFrame to avoid modifying the original\n",
    "df_no_outliers_encoded = pd.get_dummies(df_no_outliers_encoded, drop_first=True, dtype=int)  # One-hot encode categorical variables\n",
    "\n",
    "df_no_outliers_encoded.rename(columns=lambda x: x.replace(' ', ''), inplace=True)  # Remove spaces from column names\n",
    "df_no_outliers_encoded.rename(columns=lambda x: x.replace('CusLocation_', ''), inplace=True)\n",
    "df_no_outliers_encoded.rename(columns=lambda x: x.replace('MobileName_', ''), inplace=True)\n",
    "df_no_outliers_encoded.rename(columns={'Gender_M':'Male',\n",
    "                        'Doeshe/sheComefromFacebookPage?_Yes': 'FromFacebookPage',\n",
    "                        'Doeshe/sheFollowedOurPage?_Yes': 'Follower',\n",
    "                        'Didhe/shebuyanymobilebefore?_Yes': 'PreviousPurchase',\n",
    "                        'Didhe/shehearofourshopbefore?_Yes': 'HeardOfShopBefore',}, inplace=True)  # Rename columns for clarity"
   ]
  },
  {
   "cell_type": "markdown",
   "id": "5b2cec78",
   "metadata": {},
   "source": [
    "---"
   ]
  },
  {
   "cell_type": "code",
   "execution_count": 74,
   "id": "9c6a4cf4",
   "metadata": {},
   "outputs": [
    {
     "name": "stdout",
     "output_type": "stream",
     "text": [
      "<class 'pandas.core.frame.DataFrame'>\n",
      "RangeIndex: 7952 entries, 0 to 7951\n",
      "Data columns (total 25 columns):\n",
      " #   Column                Non-Null Count  Dtype         \n",
      "---  ------                --------------  -----         \n",
      " 0   Date                  7952 non-null   datetime64[ns]\n",
      " 1   Age                   7952 non-null   int64         \n",
      " 2   SellPrice             7952 non-null   float64       \n",
      " 3   Non_Local             7952 non-null   int32         \n",
      " 4   Male                  7952 non-null   int32         \n",
      " 5   GalaxyM355G8/128      7952 non-null   int32         \n",
      " 6   GalaxyS24Ultra12/256  7952 non-null   int32         \n",
      " 7   MotoG855G8/128        7952 non-null   int32         \n",
      " 8   NarzoN534/64          7952 non-null   int32         \n",
      " 9   Note11S6/128          7952 non-null   int32         \n",
      " 10  Note14Pro5G8/256      7952 non-null   int32         \n",
      " 11  Pixel7a8/128          7952 non-null   int32         \n",
      " 12  Pixel8Pro12/256       7952 non-null   int32         \n",
      " 13  R-70Turbo5G6/128      7952 non-null   int32         \n",
      " 14  RedmiNote12Pro8/128   7952 non-null   int32         \n",
      " 15  VivoT3x5G8/128        7952 non-null   int32         \n",
      " 16  VivoY2005G6/128       7952 non-null   int32         \n",
      " 17  iPhone16Pro256GB      7952 non-null   int32         \n",
      " 18  iPhone16ProMax1TB     7952 non-null   int32         \n",
      " 19  iQOONeo9Pro5G12/256   7952 non-null   int32         \n",
      " 20  iQOOZ75G6/128         7952 non-null   int32         \n",
      " 21  FromFacebookPage      7952 non-null   int32         \n",
      " 22  Follower              7952 non-null   int32         \n",
      " 23  PreviousPurchase      7952 non-null   int32         \n",
      " 24  HeardOfShopBefore     7952 non-null   int32         \n",
      "dtypes: datetime64[ns](1), float64(1), int32(22), int64(1)\n",
      "memory usage: 869.9 KB\n"
     ]
    },
    {
     "ename": "PermissionError",
     "evalue": "[Errno 13] Permission denied: './data/processed/TechCorner_Sales_Outliers_Removed_Encoded.csv'",
     "output_type": "error",
     "traceback": [
      "\u001b[1;31m---------------------------------------------------------------------------\u001b[0m",
      "\u001b[1;31mPermissionError\u001b[0m                           Traceback (most recent call last)",
      "Cell \u001b[1;32mIn[74], line 5\u001b[0m\n\u001b[0;32m      2\u001b[0m df_no_outliers_encoded\u001b[38;5;241m.\u001b[39mreset_index(drop\u001b[38;5;241m=\u001b[39m\u001b[38;5;28;01mTrue\u001b[39;00m, inplace\u001b[38;5;241m=\u001b[39m\u001b[38;5;28;01mTrue\u001b[39;00m)  \u001b[38;5;66;03m# Reset the index after sorting\u001b[39;00m\n\u001b[0;32m      3\u001b[0m df_no_outliers_encoded\u001b[38;5;241m.\u001b[39minfo()       \u001b[38;5;66;03m# Check the data types of the encoded DataFrame\u001b[39;00m\n\u001b[1;32m----> 5\u001b[0m df_no_outliers_encoded\u001b[38;5;241m.\u001b[39mto_csv(\u001b[38;5;124m'\u001b[39m\u001b[38;5;124m./data/processed/TechCorner_Sales_Outliers_Removed_Encoded.csv\u001b[39m\u001b[38;5;124m'\u001b[39m, index\u001b[38;5;241m=\u001b[39m\u001b[38;5;28;01mTrue\u001b[39;00m)\n",
      "File \u001b[1;32mc:\\ProgramData\\anaconda3\\Lib\\site-packages\\pandas\\util\\_decorators.py:333\u001b[0m, in \u001b[0;36mdeprecate_nonkeyword_arguments.<locals>.decorate.<locals>.wrapper\u001b[1;34m(*args, **kwargs)\u001b[0m\n\u001b[0;32m    327\u001b[0m \u001b[38;5;28;01mif\u001b[39;00m \u001b[38;5;28mlen\u001b[39m(args) \u001b[38;5;241m>\u001b[39m num_allow_args:\n\u001b[0;32m    328\u001b[0m     warnings\u001b[38;5;241m.\u001b[39mwarn(\n\u001b[0;32m    329\u001b[0m         msg\u001b[38;5;241m.\u001b[39mformat(arguments\u001b[38;5;241m=\u001b[39m_format_argument_list(allow_args)),\n\u001b[0;32m    330\u001b[0m         \u001b[38;5;167;01mFutureWarning\u001b[39;00m,\n\u001b[0;32m    331\u001b[0m         stacklevel\u001b[38;5;241m=\u001b[39mfind_stack_level(),\n\u001b[0;32m    332\u001b[0m     )\n\u001b[1;32m--> 333\u001b[0m \u001b[38;5;28;01mreturn\u001b[39;00m func(\u001b[38;5;241m*\u001b[39margs, \u001b[38;5;241m*\u001b[39m\u001b[38;5;241m*\u001b[39mkwargs)\n",
      "File \u001b[1;32mc:\\ProgramData\\anaconda3\\Lib\\site-packages\\pandas\\core\\generic.py:3967\u001b[0m, in \u001b[0;36mNDFrame.to_csv\u001b[1;34m(self, path_or_buf, sep, na_rep, float_format, columns, header, index, index_label, mode, encoding, compression, quoting, quotechar, lineterminator, chunksize, date_format, doublequote, escapechar, decimal, errors, storage_options)\u001b[0m\n\u001b[0;32m   3956\u001b[0m df \u001b[38;5;241m=\u001b[39m \u001b[38;5;28mself\u001b[39m \u001b[38;5;28;01mif\u001b[39;00m \u001b[38;5;28misinstance\u001b[39m(\u001b[38;5;28mself\u001b[39m, ABCDataFrame) \u001b[38;5;28;01melse\u001b[39;00m \u001b[38;5;28mself\u001b[39m\u001b[38;5;241m.\u001b[39mto_frame()\n\u001b[0;32m   3958\u001b[0m formatter \u001b[38;5;241m=\u001b[39m DataFrameFormatter(\n\u001b[0;32m   3959\u001b[0m     frame\u001b[38;5;241m=\u001b[39mdf,\n\u001b[0;32m   3960\u001b[0m     header\u001b[38;5;241m=\u001b[39mheader,\n\u001b[1;32m   (...)\u001b[0m\n\u001b[0;32m   3964\u001b[0m     decimal\u001b[38;5;241m=\u001b[39mdecimal,\n\u001b[0;32m   3965\u001b[0m )\n\u001b[1;32m-> 3967\u001b[0m \u001b[38;5;28;01mreturn\u001b[39;00m DataFrameRenderer(formatter)\u001b[38;5;241m.\u001b[39mto_csv(\n\u001b[0;32m   3968\u001b[0m     path_or_buf,\n\u001b[0;32m   3969\u001b[0m     lineterminator\u001b[38;5;241m=\u001b[39mlineterminator,\n\u001b[0;32m   3970\u001b[0m     sep\u001b[38;5;241m=\u001b[39msep,\n\u001b[0;32m   3971\u001b[0m     encoding\u001b[38;5;241m=\u001b[39mencoding,\n\u001b[0;32m   3972\u001b[0m     errors\u001b[38;5;241m=\u001b[39merrors,\n\u001b[0;32m   3973\u001b[0m     compression\u001b[38;5;241m=\u001b[39mcompression,\n\u001b[0;32m   3974\u001b[0m     quoting\u001b[38;5;241m=\u001b[39mquoting,\n\u001b[0;32m   3975\u001b[0m     columns\u001b[38;5;241m=\u001b[39mcolumns,\n\u001b[0;32m   3976\u001b[0m     index_label\u001b[38;5;241m=\u001b[39mindex_label,\n\u001b[0;32m   3977\u001b[0m     mode\u001b[38;5;241m=\u001b[39mmode,\n\u001b[0;32m   3978\u001b[0m     chunksize\u001b[38;5;241m=\u001b[39mchunksize,\n\u001b[0;32m   3979\u001b[0m     quotechar\u001b[38;5;241m=\u001b[39mquotechar,\n\u001b[0;32m   3980\u001b[0m     date_format\u001b[38;5;241m=\u001b[39mdate_format,\n\u001b[0;32m   3981\u001b[0m     doublequote\u001b[38;5;241m=\u001b[39mdoublequote,\n\u001b[0;32m   3982\u001b[0m     escapechar\u001b[38;5;241m=\u001b[39mescapechar,\n\u001b[0;32m   3983\u001b[0m     storage_options\u001b[38;5;241m=\u001b[39mstorage_options,\n\u001b[0;32m   3984\u001b[0m )\n",
      "File \u001b[1;32mc:\\ProgramData\\anaconda3\\Lib\\site-packages\\pandas\\io\\formats\\format.py:1014\u001b[0m, in \u001b[0;36mDataFrameRenderer.to_csv\u001b[1;34m(self, path_or_buf, encoding, sep, columns, index_label, mode, compression, quoting, quotechar, lineterminator, chunksize, date_format, doublequote, escapechar, errors, storage_options)\u001b[0m\n\u001b[0;32m    993\u001b[0m     created_buffer \u001b[38;5;241m=\u001b[39m \u001b[38;5;28;01mFalse\u001b[39;00m\n\u001b[0;32m    995\u001b[0m csv_formatter \u001b[38;5;241m=\u001b[39m CSVFormatter(\n\u001b[0;32m    996\u001b[0m     path_or_buf\u001b[38;5;241m=\u001b[39mpath_or_buf,\n\u001b[0;32m    997\u001b[0m     lineterminator\u001b[38;5;241m=\u001b[39mlineterminator,\n\u001b[1;32m   (...)\u001b[0m\n\u001b[0;32m   1012\u001b[0m     formatter\u001b[38;5;241m=\u001b[39m\u001b[38;5;28mself\u001b[39m\u001b[38;5;241m.\u001b[39mfmt,\n\u001b[0;32m   1013\u001b[0m )\n\u001b[1;32m-> 1014\u001b[0m csv_formatter\u001b[38;5;241m.\u001b[39msave()\n\u001b[0;32m   1016\u001b[0m \u001b[38;5;28;01mif\u001b[39;00m created_buffer:\n\u001b[0;32m   1017\u001b[0m     \u001b[38;5;28;01massert\u001b[39;00m \u001b[38;5;28misinstance\u001b[39m(path_or_buf, StringIO)\n",
      "File \u001b[1;32mc:\\ProgramData\\anaconda3\\Lib\\site-packages\\pandas\\io\\formats\\csvs.py:251\u001b[0m, in \u001b[0;36mCSVFormatter.save\u001b[1;34m(self)\u001b[0m\n\u001b[0;32m    247\u001b[0m \u001b[38;5;250m\u001b[39m\u001b[38;5;124;03m\"\"\"\u001b[39;00m\n\u001b[0;32m    248\u001b[0m \u001b[38;5;124;03mCreate the writer & save.\u001b[39;00m\n\u001b[0;32m    249\u001b[0m \u001b[38;5;124;03m\"\"\"\u001b[39;00m\n\u001b[0;32m    250\u001b[0m \u001b[38;5;66;03m# apply compression and byte/text conversion\u001b[39;00m\n\u001b[1;32m--> 251\u001b[0m \u001b[38;5;28;01mwith\u001b[39;00m get_handle(\n\u001b[0;32m    252\u001b[0m     \u001b[38;5;28mself\u001b[39m\u001b[38;5;241m.\u001b[39mfilepath_or_buffer,\n\u001b[0;32m    253\u001b[0m     \u001b[38;5;28mself\u001b[39m\u001b[38;5;241m.\u001b[39mmode,\n\u001b[0;32m    254\u001b[0m     encoding\u001b[38;5;241m=\u001b[39m\u001b[38;5;28mself\u001b[39m\u001b[38;5;241m.\u001b[39mencoding,\n\u001b[0;32m    255\u001b[0m     errors\u001b[38;5;241m=\u001b[39m\u001b[38;5;28mself\u001b[39m\u001b[38;5;241m.\u001b[39merrors,\n\u001b[0;32m    256\u001b[0m     compression\u001b[38;5;241m=\u001b[39m\u001b[38;5;28mself\u001b[39m\u001b[38;5;241m.\u001b[39mcompression,\n\u001b[0;32m    257\u001b[0m     storage_options\u001b[38;5;241m=\u001b[39m\u001b[38;5;28mself\u001b[39m\u001b[38;5;241m.\u001b[39mstorage_options,\n\u001b[0;32m    258\u001b[0m ) \u001b[38;5;28;01mas\u001b[39;00m handles:\n\u001b[0;32m    259\u001b[0m     \u001b[38;5;66;03m# Note: self.encoding is irrelevant here\u001b[39;00m\n\u001b[0;32m    260\u001b[0m     \u001b[38;5;28mself\u001b[39m\u001b[38;5;241m.\u001b[39mwriter \u001b[38;5;241m=\u001b[39m csvlib\u001b[38;5;241m.\u001b[39mwriter(\n\u001b[0;32m    261\u001b[0m         handles\u001b[38;5;241m.\u001b[39mhandle,\n\u001b[0;32m    262\u001b[0m         lineterminator\u001b[38;5;241m=\u001b[39m\u001b[38;5;28mself\u001b[39m\u001b[38;5;241m.\u001b[39mlineterminator,\n\u001b[1;32m   (...)\u001b[0m\n\u001b[0;32m    267\u001b[0m         quotechar\u001b[38;5;241m=\u001b[39m\u001b[38;5;28mself\u001b[39m\u001b[38;5;241m.\u001b[39mquotechar,\n\u001b[0;32m    268\u001b[0m     )\n\u001b[0;32m    270\u001b[0m     \u001b[38;5;28mself\u001b[39m\u001b[38;5;241m.\u001b[39m_save()\n",
      "File \u001b[1;32mc:\\ProgramData\\anaconda3\\Lib\\site-packages\\pandas\\io\\common.py:873\u001b[0m, in \u001b[0;36mget_handle\u001b[1;34m(path_or_buf, mode, encoding, compression, memory_map, is_text, errors, storage_options)\u001b[0m\n\u001b[0;32m    868\u001b[0m \u001b[38;5;28;01melif\u001b[39;00m \u001b[38;5;28misinstance\u001b[39m(handle, \u001b[38;5;28mstr\u001b[39m):\n\u001b[0;32m    869\u001b[0m     \u001b[38;5;66;03m# Check whether the filename is to be opened in binary mode.\u001b[39;00m\n\u001b[0;32m    870\u001b[0m     \u001b[38;5;66;03m# Binary mode does not support 'encoding' and 'newline'.\u001b[39;00m\n\u001b[0;32m    871\u001b[0m     \u001b[38;5;28;01mif\u001b[39;00m ioargs\u001b[38;5;241m.\u001b[39mencoding \u001b[38;5;129;01mand\u001b[39;00m \u001b[38;5;124m\"\u001b[39m\u001b[38;5;124mb\u001b[39m\u001b[38;5;124m\"\u001b[39m \u001b[38;5;129;01mnot\u001b[39;00m \u001b[38;5;129;01min\u001b[39;00m ioargs\u001b[38;5;241m.\u001b[39mmode:\n\u001b[0;32m    872\u001b[0m         \u001b[38;5;66;03m# Encoding\u001b[39;00m\n\u001b[1;32m--> 873\u001b[0m         handle \u001b[38;5;241m=\u001b[39m \u001b[38;5;28mopen\u001b[39m(\n\u001b[0;32m    874\u001b[0m             handle,\n\u001b[0;32m    875\u001b[0m             ioargs\u001b[38;5;241m.\u001b[39mmode,\n\u001b[0;32m    876\u001b[0m             encoding\u001b[38;5;241m=\u001b[39mioargs\u001b[38;5;241m.\u001b[39mencoding,\n\u001b[0;32m    877\u001b[0m             errors\u001b[38;5;241m=\u001b[39merrors,\n\u001b[0;32m    878\u001b[0m             newline\u001b[38;5;241m=\u001b[39m\u001b[38;5;124m\"\u001b[39m\u001b[38;5;124m\"\u001b[39m,\n\u001b[0;32m    879\u001b[0m         )\n\u001b[0;32m    880\u001b[0m     \u001b[38;5;28;01melse\u001b[39;00m:\n\u001b[0;32m    881\u001b[0m         \u001b[38;5;66;03m# Binary mode\u001b[39;00m\n\u001b[0;32m    882\u001b[0m         handle \u001b[38;5;241m=\u001b[39m \u001b[38;5;28mopen\u001b[39m(handle, ioargs\u001b[38;5;241m.\u001b[39mmode)\n",
      "\u001b[1;31mPermissionError\u001b[0m: [Errno 13] Permission denied: './data/processed/TechCorner_Sales_Outliers_Removed_Encoded.csv'"
     ]
    }
   ],
   "source": [
    "df_no_outliers_encoded.sort_values(by='Date', ascending=True, inplace=True)  # Sort by 'Date' column\n",
    "df_no_outliers_encoded.reset_index(drop=True, inplace=True)  # Reset the index after sorting\n",
    "df_no_outliers_encoded.info()       # Check the data types of the encoded DataFrame\n",
    "\n",
    "df_no_outliers_encoded.to_csv('./data/processed/TechCorner_Sales_Outliers_Removed_Encoded.csv', index=True)   # Save the encoded DataFrame to a CSV file"
   ]
  },
  {
   "cell_type": "code",
   "execution_count": null,
   "id": "4488d99a",
   "metadata": {},
   "outputs": [
    {
     "data": {
      "text/plain": [
       "<Axes: xlabel='SellPrice', ylabel='Count'>"
      ]
     },
     "execution_count": 57,
     "metadata": {},
     "output_type": "execute_result"
    },
    {
     "data": {
      "image/png": "[encoded data removed]",
      "text/plain": [
       "<Figure size 640x480 with 1 Axes>"
      ]
     },
     "metadata": {},
     "output_type": "display_data"
    }
   ],
   "source": [
    "# Scaling the sell price\n",
    "\n",
    "sns.histplot(df['SellPrice'], kde=True)  # Plot the distribution of 'SellPrice' column"
   ]
  }
 ],
 "metadata": {
  "kernelspec": {
   "display_name": "base",
   "language": "python",
   "name": "python3"
  },
  "language_info": {
   "codemirror_mode": {
    "name": "ipython",
    "version": 3
   },
   "file_extension": ".py",
   "mimetype": "text/x-python",
   "name": "python",
   "nbconvert_exporter": "python",
   "pygments_lexer": "ipython3",
   "version": "3.12.7"
  }
 },
 "nbformat": 4,
 "nbformat_minor": 5
}
